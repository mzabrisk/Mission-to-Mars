{
 "cells": [
  {
   "cell_type": "code",
   "execution_count": 3,
   "metadata": {},
   "outputs": [],
   "source": [
    "from splinter import Browser\n",
    "from bs4 import BeautifulSoup as soup\n",
    "from webdriver_manager.chrome import ChromeDriverManager\n",
    "\n",
    "# Set up Splinter\n",
    "executable_path = {'executable_path': ChromeDriverManager().install()}\n",
    "browser = Browser('chrome', **executable_path, headless=False)\n",
    "\n",
    "url = 'http://books.toscrape.com/'\n",
    "browser.visit(url)\n",
    "html = browser.html\n",
    "book_soup = soup(html, 'html.parser')"
   ]
  },
  {
   "cell_type": "code",
   "execution_count": 34,
   "metadata": {},
   "outputs": [
    {
     "name": "stdout",
     "output_type": "stream",
     "text": [
      "catalogue/a-light-in-the-attic_1000/index.html\n",
      "catalogue/tipping-the-velvet_999/index.html\n",
      "catalogue/soumission_998/index.html\n",
      "catalogue/sharp-objects_997/index.html\n",
      "catalogue/sapiens-a-brief-history-of-humankind_996/index.html\n",
      "catalogue/the-requiem-red_995/index.html\n",
      "catalogue/the-dirty-little-secrets-of-getting-your-dream-job_994/index.html\n",
      "catalogue/the-coming-woman-a-novel-based-on-the-life-of-the-infamous-feminist-victoria-woodhull_993/index.html\n",
      "catalogue/the-boys-in-the-boat-nine-americans-and-their-epic-quest-for-gold-at-the-1936-berlin-olympics_992/index.html\n",
      "catalogue/the-black-maria_991/index.html\n",
      "catalogue/starving-hearts-triangular-trade-trilogy-1_990/index.html\n",
      "catalogue/shakespeares-sonnets_989/index.html\n",
      "catalogue/set-me-free_988/index.html\n",
      "catalogue/scott-pilgrims-precious-little-life-scott-pilgrim-1_987/index.html\n",
      "catalogue/rip-it-up-and-start-again_986/index.html\n",
      "catalogue/our-band-could-be-your-life-scenes-from-the-american-indie-underground-1981-1991_985/index.html\n",
      "catalogue/olio_984/index.html\n",
      "catalogue/mesaerion-the-best-science-fiction-stories-1800-1849_983/index.html\n",
      "catalogue/libertarianism-for-beginners_982/index.html\n",
      "catalogue/its-only-the-himalayas_981/index.html\n"
     ]
    }
   ],
   "source": [
    "\n",
    "# loop through and print all urls for books on the first page of website\n",
    "\n",
    "links = book_soup.find_all('h3')\n",
    "for link in links:\n",
    "    print(link.find('a')['href'])\n",
    "\n"
   ]
  },
  {
   "cell_type": "code",
   "execution_count": 35,
   "metadata": {},
   "outputs": [],
   "source": [
    "browser.quit()"
   ]
  },
  {
   "cell_type": "code",
   "execution_count": null,
   "metadata": {},
   "outputs": [],
   "source": []
  }
 ],
 "metadata": {
  "kernelspec": {
   "display_name": "PythonData",
   "language": "python",
   "name": "python3"
  },
  "language_info": {
   "codemirror_mode": {
    "name": "ipython",
    "version": 3
   },
   "file_extension": ".py",
   "mimetype": "text/x-python",
   "name": "python",
   "nbconvert_exporter": "python",
   "pygments_lexer": "ipython3",
   "version": "3.7.15"
  },
  "orig_nbformat": 4,
  "vscode": {
   "interpreter": {
    "hash": "a5387b9da968551e43e0ccab31c37bebadc093c630309dcd510e17231b5b064a"
   }
  }
 },
 "nbformat": 4,
 "nbformat_minor": 2
}
